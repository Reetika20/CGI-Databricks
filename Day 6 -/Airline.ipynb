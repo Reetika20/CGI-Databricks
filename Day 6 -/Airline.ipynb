{
 "cells": [
  {
   "cell_type": "code",
   "execution_count": 0,
   "metadata": {
    "application/vnd.databricks.v1+cell": {
     "cellMetadata": {
      "byteLimit": 2048000,
      "rowLimit": 10000
     },
     "inputWidgets": {},
     "nuid": "79e00dac-2394-4ad1-b01d-64a40597b992",
     "showTitle": false,
     "tableResultSettingsMap": {},
     "title": ""
    }
   },
   "outputs": [],
   "source": [
    "%fs ls dbfs:/databricks-datasets/asa/airlines/"
   ]
  },
  {
   "cell_type": "code",
   "execution_count": 0,
   "metadata": {
    "application/vnd.databricks.v1+cell": {
     "cellMetadata": {
      "byteLimit": 2048000,
      "rowLimit": 10000
     },
     "inputWidgets": {},
     "nuid": "ce4f4518-f468-4437-b65e-52ea2eb160b0",
     "showTitle": false,
     "tableResultSettingsMap": {},
     "title": ""
    }
   },
   "outputs": [],
   "source": [
    "df=spark.read.csv(\"dbfs:/databricks-datasets/asa/airlines/\",header=True)"
   ]
  },
  {
   "cell_type": "code",
   "execution_count": 0,
   "metadata": {
    "application/vnd.databricks.v1+cell": {
     "cellMetadata": {
      "byteLimit": 2048000,
      "rowLimit": 10000
     },
     "inputWidgets": {},
     "nuid": "b3987472-25f4-4f30-a37e-9508a1dd9896",
     "showTitle": false,
     "tableResultSettingsMap": {},
     "title": ""
    }
   },
   "outputs": [],
   "source": [
    "df=spark.read.csv(\"dbfs:/databricks-datasets/asa/airlines/\",header=True,inferSchema=True)"
   ]
  },
  {
   "cell_type": "code",
   "execution_count": 0,
   "metadata": {
    "application/vnd.databricks.v1+cell": {
     "cellMetadata": {
      "byteLimit": 2048000,
      "rowLimit": 10000
     },
     "inputWidgets": {},
     "nuid": "51bf14d4-b3fd-451d-97bb-04bb5882e431",
     "showTitle": false,
     "tableResultSettingsMap": {},
     "title": ""
    }
   },
   "outputs": [],
   "source": [
    "%python\n",
    "from pyspark.sql.types import StructType, StructField, StringType, IntegerType, DoubleType\n",
    "\n",
    "schema = StructType([\n",
    "    StructField(\"Year\", IntegerType(), True),\n",
    "    StructField(\"Month\", IntegerType(), True),\n",
    "    StructField(\"DayofMonth\", IntegerType(), True),\n",
    "    StructField(\"DayOfWeek\", IntegerType(), True),\n",
    "    StructField(\"DepTime\", IntegerType(), True),\n",
    "    StructField(\"CRSDepTime\", IntegerType(), True),\n",
    "    StructField(\"ArrTime\", IntegerType(), True),\n",
    "    StructField(\"CRSArrTime\", IntegerType(), True),\n",
    "    StructField(\"UniqueCarrier\", StringType(), True),\n",
    "    StructField(\"FlightNum\", IntegerType(), True),\n",
    "    StructField(\"TailNum\", StringType(), True),\n",
    "    StructField(\"ActualElapsedTime\", IntegerType(), True),\n",
    "    StructField(\"CRSElapsedTime\", IntegerType(), True),\n",
    "    StructField(\"AirTime\", IntegerType(), True),\n",
    "    StructField(\"ArrDelay\", IntegerType(), True),\n",
    "    StructField(\"DepDelay\", IntegerType(), True),\n",
    "    StructField(\"Origin\", StringType(), True),\n",
    "    StructField(\"Dest\", StringType(), True),\n",
    "    StructField(\"Distance\", IntegerType(), True),\n",
    "    StructField(\"TaxiIn\", IntegerType(), True),\n",
    "    StructField(\"TaxiOut\", IntegerType(), True),\n",
    "    StructField(\"Cancelled\", IntegerType(), True),\n",
    "    StructField(\"CancellationCode\", StringType(), True),\n",
    "    StructField(\"Diverted\", IntegerType(), True),\n",
    "    StructField(\"CarrierDelay\", IntegerType(), True),\n",
    "    StructField(\"WeatherDelay\", IntegerType(), True),\n",
    "    StructField(\"NASDelay\", IntegerType(), True),\n",
    "    StructField(\"SecurityDelay\", IntegerType(), True),\n",
    "    StructField(\"LateAircraftDelay\", StringType(), True)\n",
    "])\n",
    "\n",
    "df = spark.read.csv(\"dbfs:/databricks-datasets/asa/airlines/\", header=True, schema=schema)"
   ]
  },
  {
   "cell_type": "code",
   "execution_count": 0,
   "metadata": {
    "application/vnd.databricks.v1+cell": {
     "cellMetadata": {
      "byteLimit": 2048000,
      "rowLimit": 10000
     },
     "inputWidgets": {},
     "nuid": "e5bff57f-a8f7-4dbc-8745-ade56b0c1e08",
     "showTitle": false,
     "tableResultSettingsMap": {},
     "title": ""
    }
   },
   "outputs": [],
   "source": [
    "from pyspark.sql import functions as F\n",
    "df.select(F.spark_partition_id()).distinct().count()"
   ]
  },
  {
   "cell_type": "code",
   "execution_count": 0,
   "metadata": {
    "application/vnd.databricks.v1+cell": {
     "cellMetadata": {
      "byteLimit": 2048000,
      "rowLimit": 10000
     },
     "inputWidgets": {},
     "nuid": "757975d6-9a9d-4746-9083-014c8582e9f1",
     "showTitle": false,
     "tableResultSettingsMap": {},
     "title": ""
    }
   },
   "outputs": [],
   "source": [
    "df.count()"
   ]
  },
  {
   "cell_type": "code",
   "execution_count": 0,
   "metadata": {
    "application/vnd.databricks.v1+cell": {
     "cellMetadata": {
      "byteLimit": 2048000,
      "rowLimit": 10000
     },
     "inputWidgets": {},
     "nuid": "5076a6a4-8b99-4771-824d-44e2205754d0",
     "showTitle": false,
     "tableResultSettingsMap": {},
     "title": ""
    }
   },
   "outputs": [],
   "source": [
    "df.filter(\"Year=2007\").display()"
   ]
  },
  {
   "cell_type": "code",
   "execution_count": 0,
   "metadata": {
    "application/vnd.databricks.v1+cell": {
     "cellMetadata": {
      "byteLimit": 2048000,
      "rowLimit": 10000
     },
     "inputWidgets": {},
     "nuid": "5b154e97-6d63-490e-902f-11a79fb3da07",
     "showTitle": false,
     "tableResultSettingsMap": {},
     "title": ""
    }
   },
   "outputs": [],
   "source": [
    "df.select(\"Year\").distinct().display()"
   ]
  },
  {
   "cell_type": "code",
   "execution_count": 0,
   "metadata": {
    "application/vnd.databricks.v1+cell": {
     "cellMetadata": {
      "byteLimit": 2048000,
      "rowLimit": 10000
     },
     "inputWidgets": {},
     "nuid": "87ea1e11-b0a1-4bd6-916d-2c0ac2564cc8",
     "showTitle": false,
     "tableResultSettingsMap": {},
     "title": ""
    }
   },
   "outputs": [],
   "source": [
    "df.write.option(\"path\",\"s3://datamaster/cgi/output/reetika/airlines\").saveAsTable(\"cgi_dev.reetika.airlines\")"
   ]
  },
  {
   "cell_type": "code",
   "execution_count": 0,
   "metadata": {
    "application/vnd.databricks.v1+cell": {
     "cellMetadata": {
      "byteLimit": 2048000,
      "rowLimit": 10000
     },
     "inputWidgets": {},
     "nuid": "f233c72b-8592-4b30-8410-854b8eef1ee3",
     "showTitle": false,
     "tableResultSettingsMap": {},
     "title": ""
    }
   },
   "outputs": [],
   "source": [
    "df.write.partitionBy(\"Year\").option(\"path\",\"s3://datamaster/cgi/output/reetika/airlines_part\").saveAsTable(\"cgi_dev.reetika.airlines_part\")"
   ]
  }
 ],
 "metadata": {
  "application/vnd.databricks.v1+notebook": {
   "computePreferences": null,
   "dashboards": [],
   "environmentMetadata": {
    "base_environment": "",
    "environment_version": "2"
   },
   "language": "python",
   "notebookMetadata": {
    "mostRecentlyExecutedCommandWithImplicitDF": {
     "commandId": 1928856809404638,
     "dataframes": [
      "_sqldf"
     ]
    },
    "pythonIndentUnit": 4
   },
   "notebookName": "Airline",
   "widgets": {}
  },
  "language_info": {
   "name": "python"
  }
 },
 "nbformat": 4,
 "nbformat_minor": 0
}
