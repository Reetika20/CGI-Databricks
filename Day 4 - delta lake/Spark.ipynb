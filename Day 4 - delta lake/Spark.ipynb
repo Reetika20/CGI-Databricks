{
 "cells": [
  {
   "cell_type": "code",
   "execution_count": 0,
   "metadata": {
    "application/vnd.databricks.v1+cell": {
     "cellMetadata": {},
     "inputWidgets": {},
     "nuid": "5b0f4db7-b034-41ce-a548-fffe21a7f24e",
     "showTitle": false,
     "tableResultSettingsMap": {},
     "title": ""
    }
   },
   "outputs": [],
   "source": [
    "df=spark.read.csv(\"/Volumes/cgi_dev/naval/raw/housing.csv\",header=True)"
   ]
  },
  {
   "cell_type": "code",
   "execution_count": 0,
   "metadata": {
    "application/vnd.databricks.v1+cell": {
     "cellMetadata": {},
     "inputWidgets": {},
     "nuid": "84ea5698-4be9-431c-bb33-4d47333c8e72",
     "showTitle": false,
     "tableResultSettingsMap": {},
     "title": ""
    }
   },
   "outputs": [],
   "source": [
    "df=spark.read.csv(\"/Volumes/cgi_dev/naval/raw/housing.csv\",header=True,inferSchema=True)"
   ]
  },
  {
   "cell_type": "code",
   "execution_count": 0,
   "metadata": {
    "application/vnd.databricks.v1+cell": {
     "cellMetadata": {},
     "inputWidgets": {},
     "nuid": "2c04ec2d-1a9f-4f6d-95b3-72a122a1bfab",
     "showTitle": false,
     "tableResultSettingsMap": {},
     "title": ""
    }
   },
   "outputs": [],
   "source": [
    "from pyspark.sql.types import *"
   ]
  },
  {
   "cell_type": "code",
   "execution_count": 0,
   "metadata": {
    "application/vnd.databricks.v1+cell": {
     "cellMetadata": {},
     "inputWidgets": {},
     "nuid": "10d1533b-f238-45b1-80a3-203234265133",
     "showTitle": false,
     "tableResultSettingsMap": {},
     "title": ""
    }
   },
   "outputs": [],
   "source": [
    "users_schema=StructType([StructField(\"longitude\",DoubleType(),True),\n",
    "                         StructField(\"latitude\",DoubleType(),True),\n",
    "                         StructField(\"housing_median_age\",DoubleType(),True),\n",
    "                         StructField(\"total_rooms\",DoubleType(),True),\n",
    "                         StructField(\"total_bedrooms\",DoubleType(),True),\n",
    "                         StructField(\"population\",DoubleType(),True),\n",
    "                         StructField(\"households\",DoubleType(),True),\n",
    "                         StructField(\"median_income\",DoubleType(),True),\n",
    "                         StructField(\"median_house_value\",DoubleType(),True),\n",
    "                         StructField(\"ocean_proximity\",StringType(),True)])"
   ]
  },
  {
   "cell_type": "code",
   "execution_count": 0,
   "metadata": {
    "application/vnd.databricks.v1+cell": {
     "cellMetadata": {},
     "inputWidgets": {},
     "nuid": "e7fafe5e-9841-4bd2-af8d-175bd3e5dbaf",
     "showTitle": false,
     "tableResultSettingsMap": {},
     "title": ""
    }
   },
   "outputs": [],
   "source": [
    "df = spark.read.csv(\n",
    "    \"/Volumes/cgi_dev/naval/raw/housing.csv\",\n",
    "    header=True,\n",
    "    schema=users_schema\n",
    ")"
   ]
  }
 ],
 "metadata": {
  "application/vnd.databricks.v1+notebook": {
   "computePreferences": null,
   "dashboards": [],
   "environmentMetadata": {
    "base_environment": "",
    "environment_version": "2"
   },
   "language": "python",
   "notebookMetadata": {
    "pythonIndentUnit": 4
   },
   "notebookName": "Spark",
   "widgets": {}
  },
  "language_info": {
   "name": "python"
  }
 },
 "nbformat": 4,
 "nbformat_minor": 0
}
