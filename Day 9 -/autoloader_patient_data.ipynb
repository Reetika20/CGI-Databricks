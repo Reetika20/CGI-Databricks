{
 "cells": [
  {
   "cell_type": "code",
   "execution_count": 0,
   "metadata": {
    "application/vnd.databricks.v1+cell": {
     "cellMetadata": {
      "byteLimit": 2048000,
      "rowLimit": 10000
     },
     "inputWidgets": {},
     "nuid": "7a8e24cf-2c63-41e4-bcdc-fe82f4d6ff6d",
     "showTitle": false,
     "tableResultSettingsMap": {},
     "title": ""
    }
   },
   "outputs": [],
   "source": [
    "input=\"s3://datamaster/stream_in/json/\"\n",
    "table_name=\"cgi_dev.reetika.autoloader_patient_data_json\"\n",
    "schemalocation=\"s3://datamaster/metadata/reetika/patients_data_2/schema\"\n",
    "checkpoint=\"s3://datamaster/metadata/reetika/patients_data_2/checkpoint\""
   ]
  },
  {
   "cell_type": "code",
   "execution_count": 0,
   "metadata": {
    "application/vnd.databricks.v1+cell": {
     "cellMetadata": {
      "byteLimit": 2048000,
      "rowLimit": 10000
     },
     "inputWidgets": {},
     "nuid": "019e9634-923e-42c3-9d64-7508fda988fe",
     "showTitle": false,
     "tableResultSettingsMap": {},
     "title": ""
    }
   },
   "outputs": [],
   "source": [
    "(\n",
    "   spark\n",
    " .readStream\n",
    " .format(\"cloudFiles\")\n",
    " .option(\"cloudFiles.format\",\"json\")\n",
    " .option(\"cloudFiles.inferColumnTypes\",\"True\")\n",
    " .option(\"cloudFiles.schemaEvolutionMode\",\"addNewColumns\")\n",
    " .option(\"cloudFiles.schemaLocation\",schemalocation)\n",
    " .load(input)\n",
    "    .writeStream\n",
    " .option(\"checkpointLocation\",checkpoint)\n",
    " #.trigger(once=True)\n",
    " .option(\"mergeSchema\",\"True\")\n",
    " .table(table_name)\n",
    " )"
   ]
  },
  {
   "cell_type": "code",
   "execution_count": 0,
   "metadata": {
    "application/vnd.databricks.v1+cell": {
     "cellMetadata": {
      "byteLimit": 2048000,
      "implicitDf": true,
      "rowLimit": 10000
     },
     "inputWidgets": {},
     "nuid": "195b5aab-630d-4ff9-bf11-2ad8e30649fe",
     "showTitle": false,
     "tableResultSettingsMap": {},
     "title": ""
    }
   },
   "outputs": [],
   "source": [
    "%sql\n",
    "select * from cgi_dev.reetika.autoloader_patient_data_json"
   ]
  }
 ],
 "metadata": {
  "application/vnd.databricks.v1+notebook": {
   "computePreferences": null,
   "dashboards": [],
   "environmentMetadata": {
    "base_environment": "",
    "environment_version": "2"
   },
   "language": "python",
   "notebookMetadata": {
    "mostRecentlyExecutedCommandWithImplicitDF": {
     "commandId": 76290583789877,
     "dataframes": [
      "_sqldf"
     ]
    },
    "pythonIndentUnit": 4
   },
   "notebookName": "autoloader_patient_data",
   "widgets": {}
  },
  "language_info": {
   "name": "python"
  }
 },
 "nbformat": 4,
 "nbformat_minor": 0
}
